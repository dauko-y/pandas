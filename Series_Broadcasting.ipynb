{
 "cells": [
  {
   "cell_type": "markdown",
   "id": "73b59314",
   "metadata": {},
   "source": [
    "# Broadcasting"
   ]
  },
  {
   "cell_type": "code",
   "execution_count": 1,
   "id": "ef08d40c",
   "metadata": {},
   "outputs": [],
   "source": [
    "import pandas as pd"
   ]
  },
  {
   "cell_type": "code",
   "execution_count": 2,
   "id": "88f74402",
   "metadata": {},
   "outputs": [
    {
     "data": {
      "text/plain": [
       "0    50.12\n",
       "1    54.10\n",
       "2    54.65\n",
       "3    52.38\n",
       "4    52.95\n",
       "Name: Stock Price, dtype: float64"
      ]
     },
     "execution_count": 2,
     "metadata": {},
     "output_type": "execute_result"
    }
   ],
   "source": [
    "google = pd.read_csv(\"google_stock_price.csv\", usecols=[\"Stock Price\"]).squeeze(\"columns\")\n",
    "google.head()"
   ]
  },
  {
   "cell_type": "code",
   "execution_count": 4,
   "id": "33fb1456",
   "metadata": {},
   "outputs": [
    {
     "data": {
      "text/plain": [
       "0        60.12\n",
       "1        64.10\n",
       "2        64.65\n",
       "3        62.38\n",
       "4        62.95\n",
       "         ...  \n",
       "3007    782.88\n",
       "3008    781.07\n",
       "3009    783.18\n",
       "3010    781.61\n",
       "3011    792.22\n",
       "Name: Stock Price, Length: 3012, dtype: float64"
      ]
     },
     "execution_count": 4,
     "metadata": {},
     "output_type": "execute_result"
    }
   ],
   "source": [
    "google + 10"
   ]
  },
  {
   "cell_type": "code",
   "execution_count": 5,
   "id": "e21bf616",
   "metadata": {},
   "outputs": [
    {
     "data": {
      "text/plain": [
       "0        40.12\n",
       "1        44.10\n",
       "2        44.65\n",
       "3        42.38\n",
       "4        42.95\n",
       "         ...  \n",
       "3007    762.88\n",
       "3008    761.07\n",
       "3009    763.18\n",
       "3010    761.61\n",
       "3011    772.22\n",
       "Name: Stock Price, Length: 3012, dtype: float64"
      ]
     },
     "execution_count": 5,
     "metadata": {},
     "output_type": "execute_result"
    }
   ],
   "source": [
    "google -10"
   ]
  },
  {
   "cell_type": "code",
   "execution_count": 6,
   "id": "2887a3be",
   "metadata": {},
   "outputs": [
    {
     "data": {
      "text/plain": [
       "0        50.12\n",
       "1        54.10\n",
       "2        54.65\n",
       "3        52.38\n",
       "4        52.95\n",
       "         ...  \n",
       "3007    772.88\n",
       "3008    771.07\n",
       "3009    773.18\n",
       "3010    771.61\n",
       "3011    782.22\n",
       "Name: Stock Price, Length: 3012, dtype: float64"
      ]
     },
     "execution_count": 6,
     "metadata": {},
     "output_type": "execute_result"
    }
   ],
   "source": [
    "google"
   ]
  },
  {
   "cell_type": "code",
   "execution_count": 7,
   "id": "d8384151",
   "metadata": {},
   "outputs": [
    {
     "data": {
      "text/plain": [
       "0        100.24\n",
       "1        108.20\n",
       "2        109.30\n",
       "3        104.76\n",
       "4        105.90\n",
       "         ...   \n",
       "3007    1545.76\n",
       "3008    1542.14\n",
       "3009    1546.36\n",
       "3010    1543.22\n",
       "3011    1564.44\n",
       "Name: Stock Price, Length: 3012, dtype: float64"
      ]
     },
     "execution_count": 7,
     "metadata": {},
     "output_type": "execute_result"
    }
   ],
   "source": [
    "google *2"
   ]
  },
  {
   "cell_type": "code",
   "execution_count": 9,
   "id": "5d61709c",
   "metadata": {},
   "outputs": [
    {
     "data": {
      "text/plain": [
       "0        60.12\n",
       "1        64.10\n",
       "2        64.65\n",
       "3        62.38\n",
       "4        62.95\n",
       "         ...  \n",
       "3007    782.88\n",
       "3008    781.07\n",
       "3009    783.18\n",
       "3010    781.61\n",
       "3011    792.22\n",
       "Name: Stock Price, Length: 3012, dtype: float64"
      ]
     },
     "execution_count": 9,
     "metadata": {},
     "output_type": "execute_result"
    }
   ],
   "source": [
    "google.add(10)"
   ]
  },
  {
   "cell_type": "code",
   "execution_count": null,
   "id": "281ea7bb",
   "metadata": {},
   "outputs": [],
   "source": []
  }
 ],
 "metadata": {
  "kernelspec": {
   "display_name": "Python 3 (ipykernel)",
   "language": "python",
   "name": "python3"
  },
  "language_info": {
   "codemirror_mode": {
    "name": "ipython",
    "version": 3
   },
   "file_extension": ".py",
   "mimetype": "text/x-python",
   "name": "python",
   "nbconvert_exporter": "python",
   "pygments_lexer": "ipython3",
   "version": "3.9.13"
  }
 },
 "nbformat": 4,
 "nbformat_minor": 5
}
